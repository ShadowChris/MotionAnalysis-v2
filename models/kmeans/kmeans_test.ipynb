{
 "cells": [
  {
   "cell_type": "code",
   "execution_count": 1,
   "outputs": [],
   "source": [
    "import matplotlib.pyplot as plt\n",
    "from math import sqrt\n",
    "import numpy as np\n",
    "import pandas as pd\n",
    "from sklearn.cluster import KMeans\n",
    "from sklearn import datasets\n",
    "from sklearn import metrics\n",
    "from sklearn.metrics import pairwise, pairwise_kernels"
   ],
   "metadata": {
    "collapsed": false,
    "pycharm": {
     "name": "#%%\n"
    }
   }
  },
  {
   "cell_type": "code",
   "execution_count": 2,
   "outputs": [],
   "source": [
    "def mypuri(classes):\n",
    "    classesone=list(set(classes))\n",
    "    dict={}\n",
    "    sum=0\n",
    "    for i in range(3):\n",
    "        for j in classesone:\n",
    "            dict[j]=0\n",
    "        for j in range(i*50,i*50+50):\n",
    "            for cl in classesone:\n",
    "                if classes[j] == cl:\n",
    "                    dict[cl] += 1\n",
    "        sum+=max(dict.values())\n",
    "        print(max(dict.values()))\n",
    "    return sum/150\n",
    "def get_keys(d, value):\n",
    "    return [k for k,v in d.items() if v == value]\n",
    "def ytrue(classes):\n",
    "    classesone=list(set(classes))\n",
    "    dict={}\n",
    "    sum=0\n",
    "    ytruels=[]\n",
    "    for i in range(3):\n",
    "        for j in classesone:\n",
    "            dict[j]=0\n",
    "        for j in range(i*50,i*50+50):\n",
    "            for cl in classesone:\n",
    "                if classes[j] == cl:\n",
    "                    dict[cl] += 1\n",
    "        key=get_keys(dict,max(dict.values()))\n",
    "        #print('keys:')\n",
    "        #print(key)\n",
    "        key=key[0]\n",
    "        for _ in range(50):\n",
    "            ytruels.append(key)\n",
    "    return ytruels"
   ],
   "metadata": {
    "collapsed": false,
    "pycharm": {
     "name": "#%%\n"
    }
   }
  },
  {
   "cell_type": "code",
   "execution_count": 3,
   "outputs": [],
   "source": [
    "class Kmeans():\n",
    "    def __init__(self, k=4, max_iterations=5000, varepsilon=0.0001,kernel=pairwise.linear_kernel):\n",
    "        self.k = k\n",
    "        self.max_iterations = max_iterations\n",
    "        self.varepsilon = varepsilon\n",
    "        self.kernel=kernel\n",
    "\n",
    "    def init_random_centroids(self, X):\n",
    "        n_samples, n_features = np.shape(X)\n",
    "        centroids = np.zeros((self.k, n_features))\n",
    "        for i in range(self.k):\n",
    "            centroid = X[np.random.choice(range(n_samples))]\n",
    "            centroids[i] = centroid\n",
    "        return centroids\n",
    "\n",
    "    def closest_centroid(self, sample, centroids):\n",
    "        one_sample = sample.reshape(1, -1)\n",
    "        X = centroids.reshape(centroids.shape[0], -1)\n",
    "        distances = np.power(np.tile(one_sample, (X.shape[0], 1)) - X, 2).sum(axis=1)\n",
    "        closest_i = np.argmin(distances)\n",
    "        return closest_i\n",
    "\n",
    "    def create_clusters(self, centroids, X):\n",
    "        n_samples = np.shape(X)[0]\n",
    "        clusters = [[] for i in range(self.k)]\n",
    "        for sample_i, sample in enumerate(X):\n",
    "            centroid_i = self.closest_centroid(sample, centroids)\n",
    "            clusters[centroid_i].append(sample_i)\n",
    "        return clusters\n",
    "\n",
    "    def update_centroids(self, clusters, X):\n",
    "        n_features = np.shape(X)[1]\n",
    "        centroids = np.zeros((self.k, n_features))\n",
    "        for i, cluster in enumerate(clusters):\n",
    "            centroid = np.mean(X[cluster], axis=0)\n",
    "            centroids[i] = centroid\n",
    "        return centroids\n",
    "\n",
    "    def get_cluster_labels(self, clusters, X):\n",
    "        y_pred = np.zeros(np.shape(X)[0])\n",
    "        for cluster_i, cluster in enumerate(clusters):\n",
    "            for sample_i in cluster:\n",
    "                y_pred[sample_i] = cluster_i\n",
    "        return y_pred\n",
    "\n",
    "    def predict(self, X):\n",
    "        centroids = self.init_random_centroids(X)\n",
    "        for _ in range(self.max_iterations):\n",
    "            clusters = self.create_clusters(centroids, X)\n",
    "            former_centroids = centroids\n",
    "            centroids = self.update_centroids(clusters, X)\n",
    "            diff = centroids - former_centroids\n",
    "            if diff.any() < self.varepsilon:\n",
    "                break\n",
    "        return self.get_cluster_labels(clusters, X)"
   ],
   "metadata": {
    "collapsed": false,
    "pycharm": {
     "name": "#%%\n"
    }
   }
  },
  {
   "cell_type": "code",
   "execution_count": 3,
   "outputs": [],
   "source": [],
   "metadata": {
    "collapsed": false,
    "pycharm": {
     "name": "#%%\n"
    }
   }
  },
  {
   "cell_type": "code",
   "execution_count": 5,
   "outputs": [
    {
     "name": "stdout",
     "output_type": "stream",
     "text": [
      "[[-0.00000000e+00 -1.45381433e-01 -5.01085773e-01 ... -5.15734745e+01\n",
      "  -5.25625001e+01 -5.35546709e+01]\n",
      " [-1.45381433e-01 -0.00000000e+00 -1.18024079e-01 ... -4.90000251e+01\n",
      "  -4.99871784e+01 -5.09701608e+01]\n",
      " [-5.01085773e-01 -1.18024079e-01 -0.00000000e+00 ... -4.65445677e+01\n",
      "  -4.75162121e+01 -4.84963378e+01]\n",
      " ...\n",
      " [-5.15734745e+01 -4.90000251e+01 -4.65445677e+01 ... -0.00000000e+00\n",
      "  -1.03453059e-02 -3.30598749e-02]\n",
      " [-5.25625001e+01 -4.99871784e+01 -4.75162121e+01 ... -1.03453059e-02\n",
      "  -0.00000000e+00 -8.97700711e-03]\n",
      " [-5.35546709e+01 -5.09701608e+01 -4.84963378e+01 ... -3.30598749e-02\n",
      "  -8.97700711e-03 -0.00000000e+00]]\n",
      "pred: \n",
      "[2. 2. 2. 2. 2. 2. 2. 2. 2. 3. 3. 3. 3. 3. 3. 3. 3. 3. 3. 3. 3. 3. 1. 1.\n",
      " 1. 1. 1. 1. 1. 1. 1. 1. 1. 1. 1. 1. 1. 1. 1. 1. 1. 0. 0. 0. 0. 0. 0. 0.\n",
      " 0. 0. 0. 0. 0. 0. 0. 0. 0. 0. 0.]\n",
      "purity:\n",
      "19\n"
     ]
    },
    {
     "ename": "IndexError",
     "evalue": "index 59 is out of bounds for axis 0 with size 59",
     "output_type": "error",
     "traceback": [
      "\u001B[1;31m---------------------------------------------------------------------------\u001B[0m",
      "\u001B[1;31mIndexError\u001B[0m                                Traceback (most recent call last)",
      "Input \u001B[1;32mIn [5]\u001B[0m, in \u001B[0;36m<cell line: 1>\u001B[1;34m()\u001B[0m\n\u001B[0;32m     13\u001B[0m \u001B[38;5;66;03m# ---\u001B[39;00m\n\u001B[0;32m     14\u001B[0m \u001B[38;5;28mprint\u001B[39m(\u001B[38;5;124m'\u001B[39m\u001B[38;5;124mpurity:\u001B[39m\u001B[38;5;124m'\u001B[39m)\n\u001B[1;32m---> 15\u001B[0m \u001B[38;5;28mprint\u001B[39m(\u001B[43mmypuri\u001B[49m\u001B[43m(\u001B[49m\u001B[43mpred\u001B[49m\u001B[43m)\u001B[49m)\n\u001B[0;32m     16\u001B[0m ytrue(pred)\n\u001B[0;32m     17\u001B[0m \u001B[38;5;28mprint\u001B[39m(\u001B[38;5;124m'\u001B[39m\u001B[38;5;124msilhouette_score:\u001B[39m\u001B[38;5;124m'\u001B[39m)\n",
      "Input \u001B[1;32mIn [2]\u001B[0m, in \u001B[0;36mmypuri\u001B[1;34m(classes)\u001B[0m\n\u001B[0;32m      8\u001B[0m \u001B[38;5;28;01mfor\u001B[39;00m j \u001B[38;5;129;01min\u001B[39;00m \u001B[38;5;28mrange\u001B[39m(i\u001B[38;5;241m*\u001B[39m\u001B[38;5;241m50\u001B[39m,i\u001B[38;5;241m*\u001B[39m\u001B[38;5;241m50\u001B[39m\u001B[38;5;241m+\u001B[39m\u001B[38;5;241m50\u001B[39m):\n\u001B[0;32m      9\u001B[0m     \u001B[38;5;28;01mfor\u001B[39;00m cl \u001B[38;5;129;01min\u001B[39;00m classesone:\n\u001B[1;32m---> 10\u001B[0m         \u001B[38;5;28;01mif\u001B[39;00m \u001B[43mclasses\u001B[49m\u001B[43m[\u001B[49m\u001B[43mj\u001B[49m\u001B[43m]\u001B[49m \u001B[38;5;241m==\u001B[39m cl:\n\u001B[0;32m     11\u001B[0m             \u001B[38;5;28mdict\u001B[39m[cl] \u001B[38;5;241m+\u001B[39m\u001B[38;5;241m=\u001B[39m \u001B[38;5;241m1\u001B[39m\n\u001B[0;32m     12\u001B[0m \u001B[38;5;28msum\u001B[39m\u001B[38;5;241m+\u001B[39m\u001B[38;5;241m=\u001B[39m\u001B[38;5;28mmax\u001B[39m(\u001B[38;5;28mdict\u001B[39m\u001B[38;5;241m.\u001B[39mvalues())\n",
      "\u001B[1;31mIndexError\u001B[0m: index 59 is out of bounds for axis 0 with size 59"
     ]
    }
   ],
   "source": [
    "if __name__ == '__main__':\n",
    "    idata = pd.read_csv('../../Dataset/czm_sorted_data/user_scale_by_event_1.csv')\n",
    "    # idata.columns = ['s l', 's w', 'p l', 'p w', 'label']\n",
    "    # del idata['class_id']\n",
    "    x = idata.values\n",
    "    kernel = lambda X: pairwise_kernels(X, metric='additive_chi2')#\n",
    "    z=kernel(x)\n",
    "    print(z)\n",
    "    kmeans=Kmeans()\n",
    "    pred=kmeans.predict(z)\n",
    "    print('pred: ')\n",
    "    print(pred)\n",
    "    # ---\n",
    "    print('purity:')\n",
    "    print(mypuri(pred))\n",
    "    ytrue(pred)\n",
    "    print('silhouette_score:')\n",
    "    print(metrics.silhouette_score(idata, pred))\n",
    "    print('ARI:')\n",
    "    # ari = metrics.adjusted_rand_score(ytrue(pred), pred)\n",
    "    # print(ari)\n",
    "    x0 = x[pred == 0]\n",
    "    plt.scatter(x0[:, 0], x0[:, 1])\n",
    "    x1 = x[pred == 1]\n",
    "    plt.scatter(x1[:, 0], x1[:, 1])\n",
    "    x2 = x[pred == 2]\n",
    "    plt.scatter(x2[:, 0], x2[:, 1])\n",
    "    plt.ylabel('s w')\n",
    "    plt.xlabel('s l')\n",
    "    plt.show()"
   ],
   "metadata": {
    "collapsed": false,
    "pycharm": {
     "name": "#%%\n"
    }
   }
  },
  {
   "cell_type": "code",
   "execution_count": null,
   "outputs": [],
   "source": [
    "idata = pd.read_csv('../../Dataset/sorted_motion_data/Data_motion_test.csv')\n",
    "X = idata.drop('class_id', axis=1).copy()\n",
    "X\n"
   ],
   "metadata": {
    "collapsed": false,
    "pycharm": {
     "name": "#%%\n"
    }
   }
  },
  {
   "cell_type": "code",
   "execution_count": null,
   "outputs": [],
   "source": [
    "kmeans_model = KMeans(n_clusters=2, random_state=1).fit(X)\n",
    "labels = kmeans_model.labels_\n",
    "metrics.silhouette_score(X, labels, metric='euclidean')"
   ],
   "metadata": {
    "collapsed": false,
    "pycharm": {
     "name": "#%%\n"
    }
   }
  },
  {
   "cell_type": "code",
   "execution_count": null,
   "outputs": [],
   "source": [],
   "metadata": {
    "collapsed": false,
    "pycharm": {
     "name": "#%%\n"
    }
   }
  }
 ],
 "metadata": {
  "kernelspec": {
   "name": "pycharm-7684c4b4",
   "language": "python",
   "display_name": "PyCharm (MotionAnalysis-v2)"
  },
  "language_info": {
   "codemirror_mode": {
    "name": "ipython",
    "version": 2
   },
   "file_extension": ".py",
   "mimetype": "text/x-python",
   "name": "python",
   "nbconvert_exporter": "python",
   "pygments_lexer": "ipython2",
   "version": "2.7.6"
  }
 },
 "nbformat": 4,
 "nbformat_minor": 0
}