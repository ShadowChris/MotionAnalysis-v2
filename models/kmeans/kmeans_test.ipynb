{
 "cells": [
  {
   "cell_type": "code",
   "execution_count": 1,
   "metadata": {
    "collapsed": true
   },
   "outputs": [],
   "source": [
    "import pandas as pd\n",
    "import sklearn\n",
    "from sklearn.model_selection import train_test_split\n",
    "from sklearn import preprocessing\n",
    "from sklearn.svm import SVC\n",
    "from sklearn.model_selection import GridSearchCV\n",
    "from sklearn.metrics import confusion_matrix\n",
    "from sklearn.metrics import plot_confusion_matrix\n",
    "from sklearn.decomposition import PCA\n",
    "import numpy as np\n",
    "import matplotlib.pyplot as plt\n",
    "import matplotlib.colors as colors"
   ]
  },
  {
   "cell_type": "code",
   "execution_count": 2,
   "outputs": [],
   "source": [
    "ROOT_PATH = '../../'"
   ],
   "metadata": {
    "collapsed": false,
    "pycharm": {
     "name": "#%%\n"
    }
   }
  },
  {
   "cell_type": "code",
   "source": [
    "event_space_dataset_dir = ROOT_PATH + 'Dataset/event_space_data/'\n",
    "user_data = []"
   ],
   "metadata": {
    "collapsed": false,
    "pycharm": {
     "name": "#%%\n"
    }
   },
   "execution_count": 3,
   "outputs": []
  },
  {
   "cell_type": "code",
   "execution_count": 4,
   "outputs": [],
   "source": [
    "# 把对解决问题无关的列去掉\n",
    "for i in range(3):\n",
    "    user_data.append(pd.read_csv(event_space_dataset_dir + '1-' + str(i + 1) + '.csv'))\n",
    "    user_data[i].drop('l_space_min', axis=1, inplace=True)\n",
    "    user_data[i].drop('l_space_mean', axis=1, inplace=True)\n",
    "    user_data[i].drop('r_space_min', axis=1, inplace=True)\n",
    "    user_data[i].drop('r_space_mean', axis=1, inplace=True)"
   ],
   "metadata": {
    "collapsed": false,
    "pycharm": {
     "name": "#%%\n"
    }
   }
  },
  {
   "cell_type": "code",
   "execution_count": 5,
   "outputs": [
    {
     "name": "stdout",
     "output_type": "stream",
     "text": [
      "event          0\n",
      "l_space_max    0\n",
      "r_space_max    0\n",
      "dtype: int64\n",
      "event           0\n",
      "l_space_max    17\n",
      "r_space_max    17\n",
      "dtype: int64\n",
      "event           0\n",
      "l_space_max    54\n",
      "r_space_max    54\n",
      "dtype: int64\n"
     ]
    }
   ],
   "source": [
    "# 看缺省值\n",
    "for i in range(3):\n",
    "    print(user_data[i].isnull().sum())"
   ],
   "metadata": {
    "collapsed": false,
    "pycharm": {
     "name": "#%%\n"
    }
   }
  },
  {
   "cell_type": "code",
   "execution_count": 6,
   "outputs": [
    {
     "name": "stdout",
     "output_type": "stream",
     "text": [
      "第1次\n",
      "事件1的各列平均值：\n",
      "event          1.000000\n",
      "l_space_max    0.270185\n",
      "r_space_max    0.449444\n",
      "dtype: float64\n",
      "事件2的各列平均值：\n",
      "event          2.000000\n",
      "l_space_max    0.266271\n",
      "r_space_max    0.420119\n",
      "dtype: float64\n",
      "事件3的各列平均值：\n",
      "event          3.000000\n",
      "l_space_max    0.266965\n",
      "r_space_max    0.407615\n",
      "dtype: float64\n",
      "事件4的各列平均值：\n",
      "event          4.000000\n",
      "l_space_max    0.298149\n",
      "r_space_max    0.434426\n",
      "dtype: float64\n",
      "第2次\n",
      "事件1的各列平均值：\n",
      "event          1.000000\n",
      "l_space_max    0.325576\n",
      "r_space_max    0.509117\n",
      "dtype: float64\n",
      "事件2的各列平均值：\n",
      "event          2.000000\n",
      "l_space_max    0.294109\n",
      "r_space_max    0.486004\n",
      "dtype: float64\n",
      "事件3的各列平均值：\n",
      "event          3.000000\n",
      "l_space_max    0.317015\n",
      "r_space_max    0.508959\n",
      "dtype: float64\n",
      "事件4的各列平均值：\n",
      "event          4.000000\n",
      "l_space_max    0.368917\n",
      "r_space_max    0.478017\n",
      "dtype: float64\n",
      "第3次\n",
      "事件1的各列平均值：\n",
      "event          1.000000\n",
      "l_space_max    0.460509\n",
      "r_space_max    0.513559\n",
      "dtype: float64\n",
      "事件2的各列平均值：\n",
      "event          2.000000\n",
      "l_space_max    0.399685\n",
      "r_space_max    0.506211\n",
      "dtype: float64\n",
      "事件3的各列平均值：\n",
      "event          3.000000\n",
      "l_space_max    0.430522\n",
      "r_space_max    0.475707\n",
      "dtype: float64\n",
      "事件4的各列平均值：\n",
      "event          4.000000\n",
      "l_space_max    0.453374\n",
      "r_space_max    0.482668\n",
      "dtype: float64\n"
     ]
    }
   ],
   "source": [
    "for i in range(3):\n",
    "    df = user_data[i]\n",
    "    print('第' + str(i + 1) + '次')\n",
    "    # 填充缺省值\n",
    "    for j in range(1, 5):\n",
    "        print('事件' + str(j) + '的各列平均值：')\n",
    "        print(df[df['event'] == j].median())\n",
    "        # 使用相同event下的平均值来填充对应列的缺省值\n",
    "        # 疑问：用平均值填充还是用最大值填充呢？\n",
    "        df[df['event'] == j] = df[df['event'] == j].fillna(df[df['event'] == j].median())"
   ],
   "metadata": {
    "collapsed": false,
    "pycharm": {
     "name": "#%%\n"
    }
   }
  },
  {
   "cell_type": "code",
   "execution_count": 9,
   "outputs": [
    {
     "name": "stdout",
     "output_type": "stream",
     "text": [
      "     event  l_space_max  r_space_max\n",
      "0      4.0     0.263634     0.289551\n",
      "1      2.0     0.239821     0.376116\n",
      "2      2.0     0.328899     0.509152\n",
      "3      4.0     0.398803     0.368063\n",
      "4      2.0     0.284081     0.363254\n",
      "..     ...          ...          ...\n",
      "211    2.0     0.381470     0.445119\n",
      "212    4.0     0.358669     0.559078\n",
      "213    4.0     0.400983     0.475154\n",
      "214    4.0     0.373665     0.540463\n",
      "215    2.0     0.396206     0.456882\n",
      "\n",
      "[216 rows x 3 columns]\n"
     ]
    }
   ],
   "source": [
    "# 3次求平均值\n",
    "merge_dataset = (user_data[0] + user_data[1] + user_data[2]) / 3"
   ],
   "metadata": {
    "collapsed": false,
    "pycharm": {
     "name": "#%%\n"
    }
   }
  },
  {
   "cell_type": "code",
   "execution_count": 14,
   "outputs": [
    {
     "name": "stdout",
     "output_type": "stream",
     "text": [
      "     event  l_space_max  r_space_max\n",
      "0        4     0.263634     0.289551\n",
      "1        2     0.239821     0.376116\n",
      "2        2     0.328899     0.509152\n",
      "3        4     0.398803     0.368063\n",
      "4        2     0.284081     0.363254\n",
      "..     ...          ...          ...\n",
      "211      2     0.381470     0.445119\n",
      "212      4     0.358669     0.559078\n",
      "213      4     0.400983     0.475154\n",
      "214      4     0.373665     0.540463\n",
      "215      2     0.396206     0.456882\n",
      "\n",
      "[216 rows x 3 columns]\n"
     ]
    }
   ],
   "source": [
    "# event转格式成int\n",
    "merge_dataset['event'] = merge_dataset['event'].astype(int)\n",
    "print(merge_dataset)"
   ],
   "metadata": {
    "collapsed": false,
    "pycharm": {
     "name": "#%%\n"
    }
   }
  },
  {
   "cell_type": "code",
   "execution_count": 17,
   "outputs": [
    {
     "data": {
      "text/plain": "event          1.000000\nl_space_max    0.359067\nr_space_max    0.494004\ndtype: float64"
     },
     "execution_count": 17,
     "metadata": {},
     "output_type": "execute_result"
    }
   ],
   "source": [
    "# 保留左右手的最大值，因为左右手的类别是合并在一起的\n",
    "# TO DO"
   ],
   "metadata": {
    "collapsed": false,
    "pycharm": {
     "name": "#%%\n"
    }
   }
  },
  {
   "cell_type": "code",
   "execution_count": 81,
   "outputs": [
    {
     "name": "stderr",
     "output_type": "stream",
     "text": [
      "C:\\Users\\Shadow006\\AppData\\Local\\Temp\\ipykernel_30024\\1215311618.py:10: FutureWarning: The frame.append method is deprecated and will be removed from pandas in a future version. Use pandas.concat instead.\n",
      "  df = df.append(ds, ignore_index=True)\n",
      "C:\\Users\\Shadow006\\AppData\\Local\\Temp\\ipykernel_30024\\1215311618.py:10: FutureWarning: The frame.append method is deprecated and will be removed from pandas in a future version. Use pandas.concat instead.\n",
      "  df = df.append(ds, ignore_index=True)\n",
      "C:\\Users\\Shadow006\\AppData\\Local\\Temp\\ipykernel_30024\\1215311618.py:10: FutureWarning: The frame.append method is deprecated and will be removed from pandas in a future version. Use pandas.concat instead.\n",
      "  df = df.append(ds, ignore_index=True)\n"
     ]
    }
   ],
   "source": [
    "# 按照事件进行平均值运算后保留表\n",
    "event_data = merge_dataset[merge_dataset['event'] == 1].median()\n",
    "df = pd.DataFrame({\n",
    "    'event': event_data['event'],\n",
    "    'l_space_max': event_data['l_space_max'],\n",
    "    'r_space_max': event_data['r_space_max']\n",
    "}, index=[0])\n",
    "for i in range(2, 5):\n",
    "    ds = merge_dataset[merge_dataset['event'] == i].median()\n",
    "    df = df.append(ds, ignore_index=True)"
   ],
   "metadata": {
    "collapsed": false,
    "pycharm": {
     "name": "#%%\n"
    }
   }
  },
  {
   "cell_type": "code",
   "execution_count": null,
   "outputs": [],
   "source": [],
   "metadata": {
    "collapsed": false,
    "pycharm": {
     "name": "#%%\n"
    }
   }
  },
  {
   "cell_type": "code",
   "execution_count": 83,
   "outputs": [
    {
     "data": {
      "text/plain": "   event  l_space_max  r_space_max\n0      1     0.359067     0.494004\n1      2     0.322218     0.463438\n2      3     0.341050     0.456071\n3      4     0.374459     0.467006",
      "text/html": "<div>\n<style scoped>\n    .dataframe tbody tr th:only-of-type {\n        vertical-align: middle;\n    }\n\n    .dataframe tbody tr th {\n        vertical-align: top;\n    }\n\n    .dataframe thead th {\n        text-align: right;\n    }\n</style>\n<table border=\"1\" class=\"dataframe\">\n  <thead>\n    <tr style=\"text-align: right;\">\n      <th></th>\n      <th>event</th>\n      <th>l_space_max</th>\n      <th>r_space_max</th>\n    </tr>\n  </thead>\n  <tbody>\n    <tr>\n      <th>0</th>\n      <td>1</td>\n      <td>0.359067</td>\n      <td>0.494004</td>\n    </tr>\n    <tr>\n      <th>1</th>\n      <td>2</td>\n      <td>0.322218</td>\n      <td>0.463438</td>\n    </tr>\n    <tr>\n      <th>2</th>\n      <td>3</td>\n      <td>0.341050</td>\n      <td>0.456071</td>\n    </tr>\n    <tr>\n      <th>3</th>\n      <td>4</td>\n      <td>0.374459</td>\n      <td>0.467006</td>\n    </tr>\n  </tbody>\n</table>\n</div>"
     },
     "execution_count": 83,
     "metadata": {},
     "output_type": "execute_result"
    }
   ],
   "source": [
    "df['event'] = df['event'].astype(int)\n",
    "df"
   ],
   "metadata": {
    "collapsed": false,
    "pycharm": {
     "name": "#%%\n"
    }
   }
  },
  {
   "cell_type": "code",
   "execution_count": null,
   "outputs": [],
   "source": [],
   "metadata": {
    "collapsed": false,
    "pycharm": {
     "name": "#%%\n"
    }
   }
  }
 ],
 "metadata": {
  "kernelspec": {
   "name": "pycharm-7684c4b4",
   "language": "python",
   "display_name": "PyCharm (MotionAnalysis-v2)"
  },
  "language_info": {
   "codemirror_mode": {
    "name": "ipython",
    "version": 2
   },
   "file_extension": ".py",
   "mimetype": "text/x-python",
   "name": "python",
   "nbconvert_exporter": "python",
   "pygments_lexer": "ipython2",
   "version": "2.7.6"
  }
 },
 "nbformat": 4,
 "nbformat_minor": 0
}