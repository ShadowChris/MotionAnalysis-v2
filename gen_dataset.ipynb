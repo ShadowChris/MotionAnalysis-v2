{
 "cells": [
  {
   "cell_type": "code",
   "execution_count": 40,
   "outputs": [],
   "source": [
    "import pandas as pd\n",
    "from sklearn.cluster import KMeans\n",
    "from sklearn import metrics\n",
    "import sklearn\n",
    "from sklearn.model_selection import train_test_split\n",
    "from sklearn import preprocessing\n",
    "from sklearn.svm import SVC\n",
    "from sklearn.model_selection import GridSearchCV\n",
    "from sklearn.metrics import confusion_matrix\n",
    "from sklearn.metrics import plot_confusion_matrix\n",
    "from sklearn.decomposition import PCA\n",
    "import numpy as np\n",
    "import matplotlib.pyplot as plt\n",
    "import matplotlib.colors as colors"
   ],
   "metadata": {
    "collapsed": false,
    "pycharm": {
     "name": "#%%\n"
    }
   }
  },
  {
   "cell_type": "code",
   "execution_count": 2,
   "outputs": [],
   "source": [
    "ROOT_PATH = './'"
   ],
   "metadata": {
    "collapsed": false,
    "pycharm": {
     "name": "#%%\n"
    }
   }
  },
  {
   "cell_type": "code",
   "execution_count": 3,
   "outputs": [],
   "source": [
    "event_space_dataset_dir = ROOT_PATH + 'Dataset/event_space_data/'\n",
    "user_data = []"
   ],
   "metadata": {
    "collapsed": false,
    "pycharm": {
     "name": "#%%\n"
    }
   }
  },
  {
   "cell_type": "code",
   "execution_count": 4,
   "outputs": [],
   "source": [
    "# 把对解决问题无关的列去掉\n",
    "for i in range(3):\n",
    "    user_data.append(pd.read_csv(event_space_dataset_dir + '44-' + str(i + 1) + '.csv'))\n",
    "    user_data[i].drop('l_space_min', axis=1, inplace=True)\n",
    "    user_data[i].drop('l_space_mean', axis=1, inplace=True)\n",
    "    user_data[i].drop('r_space_min', axis=1, inplace=True)\n",
    "    user_data[i].drop('r_space_mean', axis=1, inplace=True)"
   ],
   "metadata": {
    "collapsed": false,
    "pycharm": {
     "name": "#%%\n"
    }
   }
  },
  {
   "cell_type": "code",
   "execution_count": 5,
   "outputs": [
    {
     "name": "stdout",
     "output_type": "stream",
     "text": [
      "event          0\n",
      "l_space_max    0\n",
      "r_space_max    0\n",
      "dtype: int64\n",
      "event          0\n",
      "l_space_max    0\n",
      "r_space_max    0\n",
      "dtype: int64\n",
      "event          0\n",
      "l_space_max    0\n",
      "r_space_max    0\n",
      "dtype: int64\n"
     ]
    }
   ],
   "source": [
    "# 看缺省值\n",
    "for i in range(3):\n",
    "    print(user_data[i].isnull().sum())"
   ],
   "metadata": {
    "collapsed": false,
    "pycharm": {
     "name": "#%%\n"
    }
   }
  },
  {
   "cell_type": "code",
   "execution_count": 6,
   "outputs": [
    {
     "name": "stdout",
     "output_type": "stream",
     "text": [
      "第1次\n",
      "事件1的各列平均值：\n",
      "event          1.000000\n",
      "l_space_max    0.479270\n",
      "r_space_max    0.518556\n",
      "dtype: float64\n",
      "事件2的各列平均值：\n",
      "event          2.000000\n",
      "l_space_max    0.444185\n",
      "r_space_max    0.494773\n",
      "dtype: float64\n",
      "事件3的各列平均值：\n",
      "event          3.000000\n",
      "l_space_max    0.488147\n",
      "r_space_max    0.510657\n",
      "dtype: float64\n",
      "事件4的各列平均值：\n",
      "event          4.000000\n",
      "l_space_max    0.491215\n",
      "r_space_max    0.512136\n",
      "dtype: float64\n",
      "第2次\n",
      "事件1的各列平均值：\n",
      "event          1.000000\n",
      "l_space_max    0.494975\n",
      "r_space_max    0.506952\n",
      "dtype: float64\n",
      "事件2的各列平均值：\n",
      "event          2.000000\n",
      "l_space_max    0.470106\n",
      "r_space_max    0.518556\n",
      "dtype: float64\n",
      "事件3的各列平均值：\n",
      "event          3.000000\n",
      "l_space_max    0.496396\n",
      "r_space_max    0.481508\n",
      "dtype: float64\n",
      "事件4的各列平均值：\n",
      "event          4.000000\n",
      "l_space_max    0.503633\n",
      "r_space_max    0.498393\n",
      "dtype: float64\n",
      "第3次\n",
      "事件1的各列平均值：\n",
      "event          1.000000\n",
      "l_space_max    0.514296\n",
      "r_space_max    0.546443\n",
      "dtype: float64\n",
      "事件2的各列平均值：\n",
      "event          2.000000\n",
      "l_space_max    0.490408\n",
      "r_space_max    0.552268\n",
      "dtype: float64\n",
      "事件3的各列平均值：\n",
      "event          3.000000\n",
      "l_space_max    0.551930\n",
      "r_space_max    0.548539\n",
      "dtype: float64\n",
      "事件4的各列平均值：\n",
      "event          4.000000\n",
      "l_space_max    0.551951\n",
      "r_space_max    0.572979\n",
      "dtype: float64\n"
     ]
    }
   ],
   "source": [
    "for i in range(3):\n",
    "    df = user_data[i]\n",
    "    print('第' + str(i + 1) + '次')\n",
    "    # 填充缺省值\n",
    "    for j in range(1, 5):\n",
    "        print('事件' + str(j) + '的各列平均值：')\n",
    "        print(df[df['event'] == j].median())\n",
    "        # 使用相同event下的平均值来填充对应列的缺省值\n",
    "        # 疑问：用平均值填充还是用最大值填充呢？\n",
    "        df[df['event'] == j] = df[df['event'] == j].fillna(df[df['event'] == j].median())"
   ],
   "metadata": {
    "collapsed": false,
    "pycharm": {
     "name": "#%%\n"
    }
   }
  },
  {
   "cell_type": "code",
   "execution_count": 7,
   "outputs": [],
   "source": [
    "# 3次求平均值\n",
    "merge_dataset = (user_data[0] + user_data[1] + user_data[2]) / 3"
   ],
   "metadata": {
    "collapsed": false,
    "pycharm": {
     "name": "#%%\n"
    }
   }
  },
  {
   "cell_type": "code",
   "execution_count": 8,
   "outputs": [],
   "source": [
    "# event转格式成int\n",
    "# merge_dataset['event'] = merge_dataset['event'].astype(int)\n",
    "# print(merge_dataset)"
   ],
   "metadata": {
    "collapsed": false,
    "pycharm": {
     "name": "#%%\n"
    }
   }
  },
  {
   "cell_type": "code",
   "execution_count": 9,
   "outputs": [],
   "source": [
    "# 保留左右手的最大值，因为左右手的类别是合并在一起的\n",
    "# TO DO"
   ],
   "metadata": {
    "collapsed": false,
    "pycharm": {
     "name": "#%%\n"
    }
   }
  },
  {
   "cell_type": "code",
   "execution_count": 10,
   "outputs": [
    {
     "name": "stderr",
     "output_type": "stream",
     "text": [
      "C:\\Users\\Shadow006\\AppData\\Local\\Temp\\ipykernel_28656\\1215311618.py:10: FutureWarning: The frame.append method is deprecated and will be removed from pandas in a future version. Use pandas.concat instead.\n",
      "  df = df.append(ds, ignore_index=True)\n",
      "C:\\Users\\Shadow006\\AppData\\Local\\Temp\\ipykernel_28656\\1215311618.py:10: FutureWarning: The frame.append method is deprecated and will be removed from pandas in a future version. Use pandas.concat instead.\n",
      "  df = df.append(ds, ignore_index=True)\n",
      "C:\\Users\\Shadow006\\AppData\\Local\\Temp\\ipykernel_28656\\1215311618.py:10: FutureWarning: The frame.append method is deprecated and will be removed from pandas in a future version. Use pandas.concat instead.\n",
      "  df = df.append(ds, ignore_index=True)\n"
     ]
    }
   ],
   "source": [
    "# 按照事件进行平均值运算后保留表\n",
    "event_data = merge_dataset[merge_dataset['event'] == 1].median()\n",
    "df = pd.DataFrame({\n",
    "    'event': event_data['event'],\n",
    "    'l_space_max': event_data['l_space_max'],\n",
    "    'r_space_max': event_data['r_space_max']\n",
    "}, index=[0])\n",
    "for i in range(2, 5):\n",
    "    ds = merge_dataset[merge_dataset['event'] == i].median()\n",
    "    df = df.append(ds, ignore_index=True)"
   ],
   "metadata": {
    "collapsed": false,
    "pycharm": {
     "name": "#%%\n"
    }
   }
  },
  {
   "cell_type": "code",
   "execution_count": 11,
   "outputs": [
    {
     "data": {
      "text/plain": "   event  l_space_max  r_space_max\n0      1     0.504587     0.527243\n1      2     0.461935     0.522902\n2      3     0.512463     0.504878\n3      4     0.509550     0.507020",
      "text/html": "<div>\n<style scoped>\n    .dataframe tbody tr th:only-of-type {\n        vertical-align: middle;\n    }\n\n    .dataframe tbody tr th {\n        vertical-align: top;\n    }\n\n    .dataframe thead th {\n        text-align: right;\n    }\n</style>\n<table border=\"1\" class=\"dataframe\">\n  <thead>\n    <tr style=\"text-align: right;\">\n      <th></th>\n      <th>event</th>\n      <th>l_space_max</th>\n      <th>r_space_max</th>\n    </tr>\n  </thead>\n  <tbody>\n    <tr>\n      <th>0</th>\n      <td>1</td>\n      <td>0.504587</td>\n      <td>0.527243</td>\n    </tr>\n    <tr>\n      <th>1</th>\n      <td>2</td>\n      <td>0.461935</td>\n      <td>0.522902</td>\n    </tr>\n    <tr>\n      <th>2</th>\n      <td>3</td>\n      <td>0.512463</td>\n      <td>0.504878</td>\n    </tr>\n    <tr>\n      <th>3</th>\n      <td>4</td>\n      <td>0.509550</td>\n      <td>0.507020</td>\n    </tr>\n  </tbody>\n</table>\n</div>"
     },
     "execution_count": 11,
     "metadata": {},
     "output_type": "execute_result"
    }
   ],
   "source": [
    "df['event'] = df['event'].astype(int)\n",
    "df"
   ],
   "metadata": {
    "collapsed": false,
    "pycharm": {
     "name": "#%%\n"
    }
   }
  },
  {
   "cell_type": "code",
   "execution_count": 12,
   "metadata": {
    "collapsed": true
   },
   "outputs": [
    {
     "data": {
      "text/plain": "   event  r_space_max\n0      1     0.527243\n1      2     0.522902\n2      3     0.504878\n3      4     0.507020",
      "text/html": "<div>\n<style scoped>\n    .dataframe tbody tr th:only-of-type {\n        vertical-align: middle;\n    }\n\n    .dataframe tbody tr th {\n        vertical-align: top;\n    }\n\n    .dataframe thead th {\n        text-align: right;\n    }\n</style>\n<table border=\"1\" class=\"dataframe\">\n  <thead>\n    <tr style=\"text-align: right;\">\n      <th></th>\n      <th>event</th>\n      <th>r_space_max</th>\n    </tr>\n  </thead>\n  <tbody>\n    <tr>\n      <th>0</th>\n      <td>1</td>\n      <td>0.527243</td>\n    </tr>\n    <tr>\n      <th>1</th>\n      <td>2</td>\n      <td>0.522902</td>\n    </tr>\n    <tr>\n      <th>2</th>\n      <td>3</td>\n      <td>0.504878</td>\n    </tr>\n    <tr>\n      <th>3</th>\n      <td>4</td>\n      <td>0.507020</td>\n    </tr>\n  </tbody>\n</table>\n</div>"
     },
     "execution_count": 12,
     "metadata": {},
     "output_type": "execute_result"
    }
   ],
   "source": [
    "# 左右手取最大值(先只取右手代替)\n",
    "df = df.drop('l_space_max', axis=1)\n",
    "df"
   ]
  },
  {
   "cell_type": "code",
   "execution_count": 13,
   "outputs": [
    {
     "data": {
      "text/plain": "   uid  event  r_space_max\n0    1      1     0.527243\n1    1      2     0.522902\n2    1      3     0.504878\n3    1      4     0.507020",
      "text/html": "<div>\n<style scoped>\n    .dataframe tbody tr th:only-of-type {\n        vertical-align: middle;\n    }\n\n    .dataframe tbody tr th {\n        vertical-align: top;\n    }\n\n    .dataframe thead th {\n        text-align: right;\n    }\n</style>\n<table border=\"1\" class=\"dataframe\">\n  <thead>\n    <tr style=\"text-align: right;\">\n      <th></th>\n      <th>uid</th>\n      <th>event</th>\n      <th>r_space_max</th>\n    </tr>\n  </thead>\n  <tbody>\n    <tr>\n      <th>0</th>\n      <td>1</td>\n      <td>1</td>\n      <td>0.527243</td>\n    </tr>\n    <tr>\n      <th>1</th>\n      <td>1</td>\n      <td>2</td>\n      <td>0.522902</td>\n    </tr>\n    <tr>\n      <th>2</th>\n      <td>1</td>\n      <td>3</td>\n      <td>0.504878</td>\n    </tr>\n    <tr>\n      <th>3</th>\n      <td>1</td>\n      <td>4</td>\n      <td>0.507020</td>\n    </tr>\n  </tbody>\n</table>\n</div>"
     },
     "execution_count": 13,
     "metadata": {},
     "output_type": "execute_result"
    }
   ],
   "source": [
    "# 插入用户编号\n",
    "USER_ID = 1\n",
    "df.insert(0, 'uid', USER_ID)\n",
    "df"
   ],
   "metadata": {
    "collapsed": false,
    "pycharm": {
     "name": "#%%\n"
    }
   }
  },
  {
   "cell_type": "code",
   "execution_count": 14,
   "outputs": [],
   "source": [
    "df = df.rename(columns={'r_space_max':'avg_max'})"
   ],
   "metadata": {
    "collapsed": false,
    "pycharm": {
     "name": "#%%\n"
    }
   }
  },
  {
   "cell_type": "code",
   "execution_count": 15,
   "outputs": [
    {
     "data": {
      "text/plain": "   uid  event   avg_max\n0    1      1  0.527243\n1    1      2  0.522902\n2    1      3  0.504878\n3    1      4  0.507020",
      "text/html": "<div>\n<style scoped>\n    .dataframe tbody tr th:only-of-type {\n        vertical-align: middle;\n    }\n\n    .dataframe tbody tr th {\n        vertical-align: top;\n    }\n\n    .dataframe thead th {\n        text-align: right;\n    }\n</style>\n<table border=\"1\" class=\"dataframe\">\n  <thead>\n    <tr style=\"text-align: right;\">\n      <th></th>\n      <th>uid</th>\n      <th>event</th>\n      <th>avg_max</th>\n    </tr>\n  </thead>\n  <tbody>\n    <tr>\n      <th>0</th>\n      <td>1</td>\n      <td>1</td>\n      <td>0.527243</td>\n    </tr>\n    <tr>\n      <th>1</th>\n      <td>1</td>\n      <td>2</td>\n      <td>0.522902</td>\n    </tr>\n    <tr>\n      <th>2</th>\n      <td>1</td>\n      <td>3</td>\n      <td>0.504878</td>\n    </tr>\n    <tr>\n      <th>3</th>\n      <td>1</td>\n      <td>4</td>\n      <td>0.507020</td>\n    </tr>\n  </tbody>\n</table>\n</div>"
     },
     "execution_count": 15,
     "metadata": {},
     "output_type": "execute_result"
    }
   ],
   "source": [
    "df"
   ],
   "metadata": {
    "collapsed": false,
    "pycharm": {
     "name": "#%%\n"
    }
   }
  },
  {
   "cell_type": "markdown",
   "source": [
    "经过一系列处理，整合得到处理过后的数据集：\n",
    "接下来尝试一下先拼接用户特性与事件动作幅度，后进行聚类"
   ],
   "metadata": {
    "collapsed": false
   }
  },
  {
   "cell_type": "code",
   "execution_count": 16,
   "outputs": [],
   "source": [
    "event_df_list = []\n",
    "PATH = './Dataset/czm_sorted_data/'\n",
    "for i in range(4):\n",
    "    event_df_list.append(pd.read_csv(PATH + 'user_scale_by_event_' + str(i + 1) + '.csv'))"
   ],
   "metadata": {
    "collapsed": false,
    "pycharm": {
     "name": "#%%\n"
    }
   }
  },
  {
   "cell_type": "code",
   "execution_count": 17,
   "outputs": [
    {
     "data": {
      "text/plain": "   uid  event   avg_max\n0    3      1  0.530834\n1    4      1  0.480312\n2    5      1  0.565333\n3    7      1  0.478278\n4    8      1  0.359157",
      "text/html": "<div>\n<style scoped>\n    .dataframe tbody tr th:only-of-type {\n        vertical-align: middle;\n    }\n\n    .dataframe tbody tr th {\n        vertical-align: top;\n    }\n\n    .dataframe thead th {\n        text-align: right;\n    }\n</style>\n<table border=\"1\" class=\"dataframe\">\n  <thead>\n    <tr style=\"text-align: right;\">\n      <th></th>\n      <th>uid</th>\n      <th>event</th>\n      <th>avg_max</th>\n    </tr>\n  </thead>\n  <tbody>\n    <tr>\n      <th>0</th>\n      <td>3</td>\n      <td>1</td>\n      <td>0.530834</td>\n    </tr>\n    <tr>\n      <th>1</th>\n      <td>4</td>\n      <td>1</td>\n      <td>0.480312</td>\n    </tr>\n    <tr>\n      <th>2</th>\n      <td>5</td>\n      <td>1</td>\n      <td>0.565333</td>\n    </tr>\n    <tr>\n      <th>3</th>\n      <td>7</td>\n      <td>1</td>\n      <td>0.478278</td>\n    </tr>\n    <tr>\n      <th>4</th>\n      <td>8</td>\n      <td>1</td>\n      <td>0.359157</td>\n    </tr>\n  </tbody>\n</table>\n</div>"
     },
     "execution_count": 17,
     "metadata": {},
     "output_type": "execute_result"
    }
   ],
   "source": [
    "event_df_list[0].head()"
   ],
   "metadata": {
    "collapsed": false,
    "pycharm": {
     "name": "#%%\n"
    }
   }
  },
  {
   "cell_type": "code",
   "execution_count": 18,
   "outputs": [
    {
     "data": {
      "text/plain": "   uid  gender  age  height  weight  side  VR_exp  game_fre  sport_fre  \\\n0    3       0    0       2       1     1       0         0          1   \n1    4       0    0       2       0     1       0         0          0   \n2    5       1    1       1       0     1       1         0          0   \n3    7       1    1       1       0     1       1         0          1   \n4    8       1    1       2       1     1       0         0          1   \n\n   difficulty  enjoyment  fatigue  personality  familiarity  \n0           0          1        0            0            0  \n1           1          1        1            1            0  \n2           0          1        0            1            1  \n3           1          0        1            0            0  \n4           1          1        1            0            0  ",
      "text/html": "<div>\n<style scoped>\n    .dataframe tbody tr th:only-of-type {\n        vertical-align: middle;\n    }\n\n    .dataframe tbody tr th {\n        vertical-align: top;\n    }\n\n    .dataframe thead th {\n        text-align: right;\n    }\n</style>\n<table border=\"1\" class=\"dataframe\">\n  <thead>\n    <tr style=\"text-align: right;\">\n      <th></th>\n      <th>uid</th>\n      <th>gender</th>\n      <th>age</th>\n      <th>height</th>\n      <th>weight</th>\n      <th>side</th>\n      <th>VR_exp</th>\n      <th>game_fre</th>\n      <th>sport_fre</th>\n      <th>difficulty</th>\n      <th>enjoyment</th>\n      <th>fatigue</th>\n      <th>personality</th>\n      <th>familiarity</th>\n    </tr>\n  </thead>\n  <tbody>\n    <tr>\n      <th>0</th>\n      <td>3</td>\n      <td>0</td>\n      <td>0</td>\n      <td>2</td>\n      <td>1</td>\n      <td>1</td>\n      <td>0</td>\n      <td>0</td>\n      <td>1</td>\n      <td>0</td>\n      <td>1</td>\n      <td>0</td>\n      <td>0</td>\n      <td>0</td>\n    </tr>\n    <tr>\n      <th>1</th>\n      <td>4</td>\n      <td>0</td>\n      <td>0</td>\n      <td>2</td>\n      <td>0</td>\n      <td>1</td>\n      <td>0</td>\n      <td>0</td>\n      <td>0</td>\n      <td>1</td>\n      <td>1</td>\n      <td>1</td>\n      <td>1</td>\n      <td>0</td>\n    </tr>\n    <tr>\n      <th>2</th>\n      <td>5</td>\n      <td>1</td>\n      <td>1</td>\n      <td>1</td>\n      <td>0</td>\n      <td>1</td>\n      <td>1</td>\n      <td>0</td>\n      <td>0</td>\n      <td>0</td>\n      <td>1</td>\n      <td>0</td>\n      <td>1</td>\n      <td>1</td>\n    </tr>\n    <tr>\n      <th>3</th>\n      <td>7</td>\n      <td>1</td>\n      <td>1</td>\n      <td>1</td>\n      <td>0</td>\n      <td>1</td>\n      <td>1</td>\n      <td>0</td>\n      <td>1</td>\n      <td>1</td>\n      <td>0</td>\n      <td>1</td>\n      <td>0</td>\n      <td>0</td>\n    </tr>\n    <tr>\n      <th>4</th>\n      <td>8</td>\n      <td>1</td>\n      <td>1</td>\n      <td>2</td>\n      <td>1</td>\n      <td>1</td>\n      <td>0</td>\n      <td>0</td>\n      <td>1</td>\n      <td>1</td>\n      <td>1</td>\n      <td>1</td>\n      <td>0</td>\n      <td>0</td>\n    </tr>\n  </tbody>\n</table>\n</div>"
     },
     "execution_count": 18,
     "metadata": {},
     "output_type": "execute_result"
    }
   ],
   "source": [
    "user_character = pd.read_csv(ROOT_PATH + 'Dataset/user.csv')\n",
    "user_character.head()"
   ],
   "metadata": {
    "collapsed": false,
    "pycharm": {
     "name": "#%%\n"
    }
   }
  },
  {
   "cell_type": "code",
   "execution_count": 134,
   "outputs": [],
   "source": [
    "########################\n",
    "# 尝试以每个事件为单位，把用户特征与动作幅度进行拼接\n",
    "event_1_df = pd.merge(user_character, event_df_list[0], how='left', on='uid').copy()\n",
    "# 删掉无关的列\n",
    "event_1_df.drop('event', axis=1, inplace=True)\n",
    "event_1_df.drop('uid', axis=1, inplace=True)\n",
    "event_1_df.drop('difficulty', axis=1, inplace=True)\n",
    "event_1_df.drop('enjoyment', axis=1, inplace=True)\n",
    "event_1_df.drop('fatigue', axis=1, inplace=True)"
   ],
   "metadata": {
    "collapsed": false,
    "pycharm": {
     "name": "#%%\n"
    }
   }
  },
  {
   "cell_type": "code",
   "execution_count": 135,
   "outputs": [
    {
     "data": {
      "text/plain": "   gender  age  height  weight  side  VR_exp  game_fre  sport_fre  \\\n0       0    0       2       1     1       0         0          1   \n1       0    0       2       0     1       0         0          0   \n2       1    1       1       0     1       1         0          0   \n3       1    1       1       0     1       1         0          1   \n4       1    1       2       1     1       0         0          1   \n\n   personality  familiarity   avg_max  \n0            0            0  0.530834  \n1            1            0  0.480312  \n2            1            1  0.565333  \n3            0            0  0.478278  \n4            0            0  0.359157  ",
      "text/html": "<div>\n<style scoped>\n    .dataframe tbody tr th:only-of-type {\n        vertical-align: middle;\n    }\n\n    .dataframe tbody tr th {\n        vertical-align: top;\n    }\n\n    .dataframe thead th {\n        text-align: right;\n    }\n</style>\n<table border=\"1\" class=\"dataframe\">\n  <thead>\n    <tr style=\"text-align: right;\">\n      <th></th>\n      <th>gender</th>\n      <th>age</th>\n      <th>height</th>\n      <th>weight</th>\n      <th>side</th>\n      <th>VR_exp</th>\n      <th>game_fre</th>\n      <th>sport_fre</th>\n      <th>personality</th>\n      <th>familiarity</th>\n      <th>avg_max</th>\n    </tr>\n  </thead>\n  <tbody>\n    <tr>\n      <th>0</th>\n      <td>0</td>\n      <td>0</td>\n      <td>2</td>\n      <td>1</td>\n      <td>1</td>\n      <td>0</td>\n      <td>0</td>\n      <td>1</td>\n      <td>0</td>\n      <td>0</td>\n      <td>0.530834</td>\n    </tr>\n    <tr>\n      <th>1</th>\n      <td>0</td>\n      <td>0</td>\n      <td>2</td>\n      <td>0</td>\n      <td>1</td>\n      <td>0</td>\n      <td>0</td>\n      <td>0</td>\n      <td>1</td>\n      <td>0</td>\n      <td>0.480312</td>\n    </tr>\n    <tr>\n      <th>2</th>\n      <td>1</td>\n      <td>1</td>\n      <td>1</td>\n      <td>0</td>\n      <td>1</td>\n      <td>1</td>\n      <td>0</td>\n      <td>0</td>\n      <td>1</td>\n      <td>1</td>\n      <td>0.565333</td>\n    </tr>\n    <tr>\n      <th>3</th>\n      <td>1</td>\n      <td>1</td>\n      <td>1</td>\n      <td>0</td>\n      <td>1</td>\n      <td>1</td>\n      <td>0</td>\n      <td>1</td>\n      <td>0</td>\n      <td>0</td>\n      <td>0.478278</td>\n    </tr>\n    <tr>\n      <th>4</th>\n      <td>1</td>\n      <td>1</td>\n      <td>2</td>\n      <td>1</td>\n      <td>1</td>\n      <td>0</td>\n      <td>0</td>\n      <td>1</td>\n      <td>0</td>\n      <td>0</td>\n      <td>0.359157</td>\n    </tr>\n  </tbody>\n</table>\n</div>"
     },
     "execution_count": 135,
     "metadata": {},
     "output_type": "execute_result"
    }
   ],
   "source": [
    "event_1_df.head()\n",
    "\n",
    "# X = event_1_df\n",
    "# kmeans_model = KMeans(n_clusters=2, random_state=1).fit(X)\n",
    "# labels = kmeans_model.labels_\n",
    "# metrics.silhouette_score(X, labels, metric='euclidean')"
   ],
   "metadata": {
    "collapsed": false,
    "pycharm": {
     "name": "#%%\n"
    }
   }
  },
  {
   "cell_type": "code",
   "execution_count": 136,
   "outputs": [],
   "source": [
    "# 尝试把距离变成类别\n",
    "column_num = event_1_df.shape[1]\n",
    "event_1_df.insert(column_num - 1,'class_id', -1)\n",
    "# event_1_df.head()"
   ],
   "metadata": {
    "collapsed": false,
    "pycharm": {
     "name": "#%%\n"
    }
   }
  },
  {
   "cell_type": "code",
   "execution_count": 137,
   "outputs": [],
   "source": [
    "# 给类别按条件赋值\n",
    "\n",
    "\n",
    "class_0_df = event_1_df[event_1_df['avg_max'] < 0.397045955]\n",
    "class_1_df = event_1_df[(0.397045955 <= event_1_df['avg_max']) & (event_1_df['avg_max'] < 0.449554936)]\n",
    "class_2_df = event_1_df[(0.449554936 <= event_1_df['avg_max']) & (event_1_df['avg_max'] < 0.507008433)]\n",
    "class_3_df = event_1_df[0.507008433 < event_1_df['avg_max']]\n",
    "for i in range(class_0_df.shape[0]):\n",
    "    event_1_df.loc[class_0_df.index[i], 'class_id'] = 0\n",
    "for i in range(class_1_df.shape[0]):\n",
    "    event_1_df.loc[class_1_df.index[i], 'class_id'] = 1\n",
    "for i in range(class_2_df.shape[0]):\n",
    "    event_1_df.loc[class_2_df.index[i], 'class_id'] = 2\n",
    "for i in range(class_3_df.shape[0]):\n",
    "    event_1_df.loc[class_3_df.index[i], 'class_id'] = 3\n",
    "\n",
    "event_1_df.drop('avg_max', axis=1, inplace=True)"
   ],
   "metadata": {
    "collapsed": false,
    "pycharm": {
     "name": "#%%\n"
    }
   }
  },
  {
   "cell_type": "code",
   "execution_count": 143,
   "outputs": [],
   "source": [
    "event_1_df.to_csv('./Dataset/czm_sorted_data/data_for_prediction/character+class_id+event_1.csv', index=False)"
   ],
   "metadata": {
    "collapsed": false,
    "pycharm": {
     "name": "#%%\n"
    }
   }
  },
  {
   "cell_type": "code",
   "execution_count": null,
   "outputs": [],
   "source": [],
   "metadata": {
    "collapsed": false,
    "pycharm": {
     "name": "#%%\n"
    }
   }
  }
 ],
 "metadata": {
  "kernelspec": {
   "name": "pycharm-7684c4b4",
   "language": "python",
   "display_name": "PyCharm (MotionAnalysis-v2)"
  },
  "language_info": {
   "codemirror_mode": {
    "name": "ipython",
    "version": 2
   },
   "file_extension": ".py",
   "mimetype": "text/x-python",
   "name": "python",
   "nbconvert_exporter": "python",
   "pygments_lexer": "ipython2",
   "version": "2.7.6"
  }
 },
 "nbformat": 4,
 "nbformat_minor": 0
}